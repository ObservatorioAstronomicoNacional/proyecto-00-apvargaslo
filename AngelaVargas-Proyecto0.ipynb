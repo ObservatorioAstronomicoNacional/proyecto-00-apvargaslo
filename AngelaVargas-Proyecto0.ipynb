{
 "cells": [
  {
   "cell_type": "markdown",
   "id": "c1dd87dd-c4d3-4ac5-9080-75c608428afa",
   "metadata": {},
   "source": [
    "Proyecto 00. Movimiento de un satélite\n",
    "\n",
    "Ángela Paola Vargas López\n",
    "\n",
    "Nota1: El código está construido para que solo sea necesario modificar los valores de la PARTE 1 y la PARTE 4 para probar su funcionalidad.\n",
    "\n",
    "En la primera parte del código se importan las librerías y elementos necesarios."
   ]
  },
  {
   "cell_type": "code",
   "execution_count": 2,
   "id": "ffe2b726-4ce5-48fe-bf6b-920b3cda9753",
   "metadata": {},
   "outputs": [],
   "source": [
    "#PRIMERA PARTE - LIBRERÍAS\n",
    "import numpy as np\n",
    "import matplotlib.pyplot as plt\n",
    "import astropy.units as u\n",
    "from astropy.time import Time\n",
    "from astropy.constants import G, M_earth, R_earth\n",
    "from astropy.timeseries import TimeSeries as TS"
   ]
  },
  {
   "cell_type": "markdown",
   "id": "62a2c3ce-94ba-42bd-abab-771602b0f6ea",
   "metadata": {},
   "source": [
    "En la segunda parte del código se definen los parámetros, los cuales se pueden modificar a gusto.\n",
    "\n",
    "Nota2: Respecto a las unidades, se trabaja en días, kilómetros y kilogramos.\n",
    "\n",
    "Nota3: Se utilizaron los valores predefinidos por Astropy para el radio y la masa de la Tierra, y la constante gravitacional, en vez de los que el profesor pone en el inciso de verificación."
   ]
  },
  {
   "cell_type": "code",
   "execution_count": 4,
   "id": "fbdd64d1-f018-4a02-ae71-220f3dc9c20c",
   "metadata": {},
   "outputs": [],
   "source": [
    "#SEGUNDA PARTE - PARÁMETROS - MODIFICABLE\n",
    "R = R_earth.to('km')\n",
    "M = M_earth\n",
    "G = G.to('km^3/kg d^2')\n",
    "a = 1.30262 * R\n",
    "e = 0.16561\n",
    "t_p = Time('2025-03-31 00:00:00', format = 'iso', scale = 'utc')\n",
    "omega = np.radians(15)"
   ]
  },
  {
   "cell_type": "markdown",
   "id": "5c1f48eb-a1be-491b-b5fb-36c427492756",
   "metadata": {},
   "source": [
    "En la tercera parte del código se definen todas las funciones que se van a utilizar. KeplerF y Efunc resuelven el PRIMER PUNTO, position el SEGUNDO PUNTO, orbit el TERCER PUNTO, y quadInterpol y date el CUARTO PUNTO.\n",
    "\n",
    "Nota4: Un posible modificable en esta parte es el parámetro N (número de datos) en las funciones orbit y date. Se establecieron valores de N adecuados para obtener resultados buenos sin necesitar demasiado tiempo de cómputo. En notas posteriores se comenta el tiempo de cómputo para diferentes valores de N."
   ]
  },
  {
   "cell_type": "code",
   "execution_count": 6,
   "id": "63ee7c84-81e2-4e19-bea1-8cc2e99049e6",
   "metadata": {},
   "outputs": [],
   "source": [
    "#TERCERA PARTE - FUNCIONES\n",
    "def KeplerF(E, t):\n",
    "    '''\n",
    "    Cuando esta función es igual a cero se obtiene la ecuación de Kepler.\n",
    "    ---\n",
    "    Argumentos:\n",
    "    E: anomalía excéntrica\n",
    "    t: tiempo\n",
    "    '''\n",
    "    F = E-e*np.sin(E)-np.sqrt(G*M/(a**3))*(t-t_p.mjd*u.d)\n",
    "    return F\n",
    "\n",
    "def Efunc(t):\n",
    "    '''\n",
    "    Para un tiempo t, esta función resuleve la ecuación de Kepler buscando\n",
    "    la raíz de la función KeplerF con el método de bisección, retornando \n",
    "    la anomalía excéntrica E correspondiente.\n",
    "    '''\n",
    "    tj = t.mjd*u.d\n",
    "    E_a = (np.sqrt(G*M/(a**3))*(tj-t_p.mjd*u.d)).value - np.pi\n",
    "    E_b = (np.sqrt(G*M/(a**3))*(tj-t_p.mjd*u.d)).value + np.pi\n",
    "    E_c = (E_a + E_b)/2.\n",
    "    while np.abs(KeplerF(E_c, tj)) > 1e-15:\n",
    "        E_c = (E_a + E_b)/2.\n",
    "        if KeplerF(E_a, tj)*KeplerF(E_c, tj) < 0:\n",
    "            E_b = E_c\n",
    "        else:\n",
    "            E_a = E_c\n",
    "    return E_c\n",
    "\n",
    "def position(t):\n",
    "    '''\n",
    "    Para un tiempo t, esta función retorna la distancia (en km) a la que\n",
    "    se encuentra el satélite de la tierra, y su ángulo de traslación (en grados)\n",
    "    respecto al eje horizontal.\n",
    "    '''\n",
    "    E = Efunc(t)\n",
    "    f = 2*np.arctan(np.sqrt((1+e)/(1-e))*np.tan(E/2))\n",
    "    r = a*(1-e**2)/(1+e*np.cos(f))\n",
    "    phi = np.degrees(omega+f)*u.deg\n",
    "    if phi < 0:\n",
    "        phi += 360*u.deg\n",
    "    return (r, phi)\n",
    "\n",
    "def orbit():\n",
    "    '''\n",
    "    Esta función retorna la gráfica de la trayectoria del satélite.\n",
    "    '''    \n",
    "    N = 100\n",
    "    period = 2*np.pi*np.sqrt((a**3)/(G*M))\n",
    "    dt = period/N\n",
    "    tDom = (TS(time_start = t_p, time_delta = dt, n_samples = N+1)).time\n",
    "    xRang = []\n",
    "    yRang = []\n",
    "    for i in tDom:\n",
    "        r, phi = position(i)\n",
    "        xRang.append(r.value*np.cos(np.radians(phi.value)))\n",
    "        yRang.append(r.value*np.sin(np.radians(phi.value)))\n",
    "        \n",
    "    plt.figure()\n",
    "    plt.grid()\n",
    "    plt.plot(xRang, yRang, '', color = 'orange', markersize = 3, label = 'Trayectoria del satélite')\n",
    "    plt.plot(0, 0, 'o', color = 'blue', label = 'Foco - centro de la tierra')\n",
    "    plt.xlabel(r'$x$ (km)')\n",
    "    plt.ylabel(r'$y$ (km)')\n",
    "    plt.title('Trayectoria del satélite respecto al centro de la Tierra')\n",
    "    plt.legend(loc='lower left')\n",
    "    plt.axhline(0, color='black', linewidth=.5)\n",
    "    plt.axvline(0, color='black', linewidth=.5)\n",
    "    plt.axis('scaled')\n",
    "    plt.show()\n",
    "\n",
    "def quadInterpol(x1, x2, x3, f1, f2, f3, x):\n",
    "    '''\n",
    "    Esta función interpola los puntos (x1, y1), (x2, y2) y (x3, y3)\n",
    "    con una función cuadrática y retorna el valor de f para x.\n",
    "    '''\n",
    "    p2 = (((x-x2)*(x-x3))/((x1-x2)*(x1-x3)))*f1 +\\\n",
    "    (((x-x1)*(x-x3))/((x2-x1)*(x2-x3)))*f2 +\\\n",
    "    (((x-x1)*(x-x2))/((x3-x1)*(x3-x2)))*f3\n",
    "    return p2\n",
    "\n",
    "def date(r0):\n",
    "    '''\n",
    "    Para una distancia r0 respecto del centro de la tierra, esta \n",
    "    función retorna el tiempo en el que se encuentra el satélite \n",
    "    orbitando a esa distancia.\n",
    "    '''\n",
    "    r_max=a*(1-e**2)/(1-e)\n",
    "    r_min=a*(1-e**2)/(1+e)\n",
    "    if r0<r_min or r0>r_max:\n",
    "        raise ValueError(f'El valor de r0 debe estar entre {r_min} y {r_min}.')\n",
    "    N = 50\n",
    "    half_period = np.pi*np.sqrt((a**3)/(G*M))\n",
    "    dt = half_period/N\n",
    "    tDom = (TS(time_start = t_p, time_delta = dt, n_samples = N+1)).time\n",
    "    delta_r = np.abs(r0-(position(tDom[0]))[0])\n",
    "    index = 1\n",
    "    delta_r_aux = np.abs(r0-(position(tDom[index+1]))[0])\n",
    "    while delta_r_aux < delta_r and index < N-1:\n",
    "        delta_r = delta_r_aux\n",
    "        index += 1\n",
    "        delta_r_aux = np.abs(r0-(position(tDom[index+1]))[0])\n",
    "    t_pol = [(tDom[index-1]).mjd, (tDom[index]).mjd, (tDom[index+1]).mjd]\n",
    "    r_pol = [((position(tDom[index-1]))[0]).value, ((position(tDom[index]))[0]).value, ((position(tDom[index+1]))[0]).value]\n",
    "    t0 = quadInterpol(r_pol[0], r_pol[1], r_pol[2], t_pol[0], t_pol[1], t_pol[2], r0.value)\n",
    "    return Time(t0,format='mjd').iso"
   ]
  },
  {
   "cell_type": "markdown",
   "id": "e351ede0-e9d8-4614-ad1b-b9a2cbddce8b",
   "metadata": {},
   "source": [
    "En la cuarta parte del código se establecen los valores de verificación para evaluar las funciones. Estos valores se pueden modificar a gusto, evitando hacerlo al momento de la evaluación."
   ]
  },
  {
   "cell_type": "code",
   "execution_count": 8,
   "id": "ec48dadf-792c-4a08-b184-ddbaf90a6000",
   "metadata": {},
   "outputs": [],
   "source": [
    "#CUARTA PARTE - VALORES DE VERIFICACIÓN - MODIFICABLE\n",
    "t0 = Time('2025-04-01 00:00:00', format = 'iso', scale = 'utc')\n",
    "r0 = 1.5*R\n",
    "#r0 = 9000*u.km"
   ]
  },
  {
   "cell_type": "markdown",
   "id": "8ef1a49a-e86c-4ccc-a53c-9a7fbb0f570e",
   "metadata": {},
   "source": [
    "En la quinta parte del código se implementan las funciones con los valores de verificación. \n",
    "\n",
    "Para el PRIMER PUNTO se obtiene la anomalía excéntrica para el tiempo t0. "
   ]
  },
  {
   "cell_type": "code",
   "execution_count": 10,
   "id": "093eb493-0aec-4fc3-8de9-a2968edcfa27",
   "metadata": {},
   "outputs": [
    {
     "data": {
      "text/latex": [
       "$72.062824\\mathrm{{}^{\\circ}}$"
      ],
      "text/plain": [
       "<Quantity 72.06282365 deg>"
      ]
     },
     "execution_count": 10,
     "metadata": {},
     "output_type": "execute_result"
    }
   ],
   "source": [
    "#QUINTA PARTE - PUNTO 1\n",
    "Efunc(t0)*u.deg"
   ]
  },
  {
   "cell_type": "markdown",
   "id": "64f81ada-d779-447d-95ad-15f78ffd433a",
   "metadata": {},
   "source": [
    "Para el SEGUNDO PUNTO se obtienen las coordenadas polares $r$ y $\\varphi$ (respectivamente) del satélite para el tiempo t0."
   ]
  },
  {
   "cell_type": "code",
   "execution_count": 12,
   "id": "b4a0cdcb-2639-4c36-9125-c75ceb218be1",
   "metadata": {},
   "outputs": [
    {
     "data": {
      "text/plain": [
       "(<Quantity 9658.40831635 km>, <Quantity 185.5965576 deg>)"
      ]
     },
     "execution_count": 12,
     "metadata": {},
     "output_type": "execute_result"
    }
   ],
   "source": [
    "#QUINTA PARTE - PUNTO 2\n",
    "position(t0)"
   ]
  },
  {
   "cell_type": "markdown",
   "id": "2ce132c7-5c97-4cbb-9682-4769000b5875",
   "metadata": {},
   "source": [
    "Para el TERCER PUNTO se obtiene la gráfica de la trayectoria del satélite.\n",
    "\n",
    "Nota6: Tiempo de cómputo para N=100, t $\\approx$ 6 s. Tiempo de cómputo para N=500, t $\\approx$ 21 s. Tiempo de cómputo para N=1000, t $\\approx$ 38 s."
   ]
  },
  {
   "cell_type": "code",
   "execution_count": 14,
   "id": "165fbbba-5656-4d3d-a32d-93076e2f59f9",
   "metadata": {},
   "outputs": [
    {
     "data": {
      "image/png": "[encoded data removed]",
      "text/plain": [
       "<Figure size 640x480 with 1 Axes>"
      ]
     },
     "metadata": {},
     "output_type": "display_data"
    }
   ],
   "source": [
    "#QUINTA PARTE - PUNTO 3\n",
    "orbit()"
   ]
  },
  {
   "cell_type": "markdown",
   "id": "8c78bf42-2357-4017-8f78-24b55608fa5c",
   "metadata": {},
   "source": [
    "Para el CUARTO PUNTO se obtiene el la fecha para la cual el satélite orbita por primera vez a una distancia de r0.\n",
    "\n",
    "Nota7: Tiempos de cómputo similares a los del punto anterior."
   ]
  },
  {
   "cell_type": "code",
   "execution_count": 16,
   "id": "bced5622-598d-4fb8-9eec-624ad20e669a",
   "metadata": {},
   "outputs": [
    {
     "data": {
      "text/plain": [
       "'2025-03-31 00:53:10.021'"
      ]
     },
     "execution_count": 16,
     "metadata": {},
     "output_type": "execute_result"
    }
   ],
   "source": [
    "#QUINTA PARTE - PUNTO 4\n",
    "date(r0)"
   ]
  }
 ],
 "metadata": {
  "kernelspec": {
   "display_name": "Python [conda env:base] *",
   "language": "python",
   "name": "conda-base-py"
  },
  "language_info": {
   "codemirror_mode": {
    "name": "ipython",
    "version": 3
   },
   "file_extension": ".py",
   "mimetype": "text/x-python",
   "name": "python",
   "nbconvert_exporter": "python",
   "pygments_lexer": "ipython3",
   "version": "3.12.7"
  }
 },
 "nbformat": 4,
 "nbformat_minor": 5
}
